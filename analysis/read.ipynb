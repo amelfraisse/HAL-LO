{
 "cells": [
  {
   "cell_type": "code",
   "execution_count": 33,
   "metadata": {},
   "outputs": [],
   "source": [
    "import pandas as pd\n",
    "import numpy as np\n",
    "import requests\n",
    "import io\n"
   ]
  },
  {
   "cell_type": "code",
   "execution_count": null,
   "metadata": {},
   "outputs": [],
   "source": [
    "url = \"https://raw.githubusercontent.com/amelfraisse/HAL-LO/main/datasets/data_contributeurs.csv\" \n",
    "download = requests.get(url).content\n",
    "\n",
    "colnames=['UnivSigle', 'UnivNum', 'Label', 'UniteSigle', 'UniteNom', 'Collection', 'Secteur', 'Discipline', 'AnneeDepot', 'NbDepotLabo', 'ContributeurNom', 'NbDepotContributeur'] \n",
    "dataframe = pd.read_csv(io.StringIO(download.decode('latin-1')), sep =';', names = colnames, header=0)\n",
    "\n",
    "dataframe.head()"
   ]
  },
  {
   "cell_type": "code",
   "execution_count": null,
   "metadata": {},
   "outputs": [],
   "source": [
    "print(\"Nombre lignes:\")\n",
    "len(dataframe.index)"
   ]
  },
  {
   "cell_type": "code",
   "execution_count": null,
   "metadata": {},
   "outputs": [],
   "source": [
    "#dfUniv = pd.pivot_table(\n",
    "#   dataframe,\n",
    "#   index=['UnivSigle'],\n",
    "#   aggfunc={'AnneeDepot': [min, max], 'NbDepotContributeur': [min, max, np.sum, np.std], 'ContributeurNom': len}\n",
    "#).rename(columns={'ID': 'NbContributeur'})\n",
    "\n",
    "dfUniv = pd.pivot_table(\n",
    "   dataframe,\n",
    "   index=['UnivSigle'],\n",
    "   aggfunc={'AnneeDepot': [min, max], 'NbDepotContributeur': [min, max, np.sum, np.std]})\n",
    "\n",
    "dfUniv.head(100)\n"
   ]
  },
  {
   "cell_type": "code",
   "execution_count": null,
   "metadata": {
    "scrolled": true
   },
   "outputs": [],
   "source": [
    "print(\"Nombre Universités:\")\n",
    "len(dfUniv.index)"
   ]
  },
  {
   "cell_type": "code",
   "execution_count": null,
   "metadata": {},
   "outputs": [],
   "source": [
    "dfSaclay = dataframe[dataset['UnivSigle']==\"Saclay\"]\n",
    "dfSaclay.AnneeDepot.sort_values(ascending=False)\n",
    "dfSaclay.head(10)"
   ]
  },
  {
   "cell_type": "code",
   "execution_count": null,
   "metadata": {},
   "outputs": [],
   "source": [
    "print(\"Nombre lignes Saclay:\")\n",
    "len(dfSaclay.index)"
   ]
  },
  {
   "cell_type": "code",
   "execution_count": null,
   "metadata": {},
   "outputs": [],
   "source": [
    "dfSaclayPivot = pd.pivot_table(\n",
    "   dfSaclay,\n",
    "   index=['AnneeDepot'],\n",
    "   aggfunc={'UniteNom': len, 'Collection': len, 'Secteur': len, 'Discipline': len})\n",
    "\n",
    "dfSaclayPivot.head(100)"
   ]
  },
  {
   "cell_type": "code",
   "execution_count": null,
   "metadata": {},
   "outputs": [],
   "source": []
  }
 ],
 "metadata": {
  "kernelspec": {
   "display_name": "Python 3 (ipykernel)",
   "language": "python",
   "name": "python3"
  },
  "language_info": {
   "codemirror_mode": {
    "name": "ipython",
    "version": 3
   },
   "file_extension": ".py",
   "mimetype": "text/x-python",
   "name": "python",
   "nbconvert_exporter": "python",
   "pygments_lexer": "ipython3",
   "version": "3.8.9"
  }
 },
 "nbformat": 4,
 "nbformat_minor": 2
}
