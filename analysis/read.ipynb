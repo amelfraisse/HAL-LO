{
 "cells": [
  {
   "cell_type": "code",
   "execution_count": null,
   "metadata": {},
   "outputs": [],
   "source": [
    "inport pandas as pd\n",
    "import requests\n",
    "import io\n",
    "\n",
    "url = \"https://raw.githubusercontent.com/amelfraisse/HAL-LO/main/datasets/data_contributeurs.csv\" \n",
    "download = requests.get(url).content\n",
    "\n",
    "dataseet = pd.readcsv(io.StringIO(download.decode('utf-8')))\n",
    "\n",
    "dataset.head()"
   ]
  }
 ],
 "metadata": {
  "language_info": {
   "name": "plaintext"
  },
  "orig_nbformat": 4
 },
 "nbformat": 4,
 "nbformat_minor": 2
}
