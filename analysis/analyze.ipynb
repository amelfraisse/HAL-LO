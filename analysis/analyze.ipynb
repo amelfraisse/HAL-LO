{
 "cells": [
  {
   "cell_type": "code",
   "execution_count": 8,
   "id": "f274b78d",
   "metadata": {},
   "outputs": [],
   "source": [
    "import pandas as pd\n",
    "import numpy as np\n",
    "import matplotlib.pyplot as plt\n",
    "import requests\n",
    "import io"
   ]
  },
  {
   "cell_type": "code",
   "execution_count": 2,
   "id": "b4ac0d31",
   "metadata": {},
   "outputs": [
    {
     "data": {
      "text/html": [
       "<div>\n",
       "<style scoped>\n",
       "    .dataframe tbody tr th:only-of-type {\n",
       "        vertical-align: middle;\n",
       "    }\n",
       "\n",
       "    .dataframe tbody tr th {\n",
       "        vertical-align: top;\n",
       "    }\n",
       "\n",
       "    .dataframe thead th {\n",
       "        text-align: right;\n",
       "    }\n",
       "</style>\n",
       "<table border=\"1\" class=\"dataframe\">\n",
       "  <thead>\n",
       "    <tr style=\"text-align: right;\">\n",
       "      <th></th>\n",
       "      <th>UnivSigle</th>\n",
       "      <th>UnivNum</th>\n",
       "      <th>Label</th>\n",
       "      <th>UniteSigle</th>\n",
       "      <th>UniteNom</th>\n",
       "      <th>Collection</th>\n",
       "      <th>Secteur</th>\n",
       "      <th>Discipline</th>\n",
       "      <th>AnneeDepot</th>\n",
       "      <th>NbDepotLabo</th>\n",
       "      <th>ContributeurNom</th>\n",
       "      <th>NbDepotContributeur</th>\n",
       "    </tr>\n",
       "  </thead>\n",
       "  <tbody>\n",
       "    <tr>\n",
       "      <th>0</th>\n",
       "      <td>Saclay</td>\n",
       "      <td>Saclay-187</td>\n",
       "      <td>NaN</td>\n",
       "      <td>LTCI</td>\n",
       "      <td>Laboratoire traitement et communication de l'i...</td>\n",
       "      <td>LTCI</td>\n",
       "      <td>Science technologie</td>\n",
       "      <td>Sciences et technologies de l'information et d...</td>\n",
       "      <td>2019</td>\n",
       "      <td>3064</td>\n",
       "      <td>Telecomparis Hal</td>\n",
       "      <td>2401</td>\n",
       "    </tr>\n",
       "    <tr>\n",
       "      <th>1</th>\n",
       "      <td>UGA</td>\n",
       "      <td>UGA-018</td>\n",
       "      <td>UPR 5301</td>\n",
       "      <td>CERMAV</td>\n",
       "      <td>Centre de Recherches sur les Macromolécules Vé...</td>\n",
       "      <td>CERMAV</td>\n",
       "      <td>Science technologie</td>\n",
       "      <td>Chimie;Biologie medecine et sante;Sciences pou...</td>\n",
       "      <td>2008</td>\n",
       "      <td>2199</td>\n",
       "      <td>Michèle Carret</td>\n",
       "      <td>2179</td>\n",
       "    </tr>\n",
       "    <tr>\n",
       "      <th>2</th>\n",
       "      <td>UDL</td>\n",
       "      <td>UDL-092</td>\n",
       "      <td>UMR 5205</td>\n",
       "      <td>LIRIS</td>\n",
       "      <td>Laboratoire d'InfoRmatique en Image et Système...</td>\n",
       "      <td>LIRIS</td>\n",
       "      <td>Science technologie</td>\n",
       "      <td>Sciences et technologies de l'information et d...</td>\n",
       "      <td>2017</td>\n",
       "      <td>2548</td>\n",
       "      <td>Équipe Gestionnaire Des Publications Si Liris</td>\n",
       "      <td>2041</td>\n",
       "    </tr>\n",
       "    <tr>\n",
       "      <th>3</th>\n",
       "      <td>UGA</td>\n",
       "      <td>UGA-012</td>\n",
       "      <td>UMR 0042</td>\n",
       "      <td>CARRTEL</td>\n",
       "      <td>Centre Alpin de Recherche sur les Réseaux Trop...</td>\n",
       "      <td>NaN</td>\n",
       "      <td>Science technologie</td>\n",
       "      <td>Sciences agronomiques et ecologiques</td>\n",
       "      <td>2020</td>\n",
       "      <td>2145</td>\n",
       "      <td>Migration Prodinra</td>\n",
       "      <td>1942</td>\n",
       "    </tr>\n",
       "    <tr>\n",
       "      <th>4</th>\n",
       "      <td>UDL</td>\n",
       "      <td>UDL-145</td>\n",
       "      <td>UMR 1213</td>\n",
       "      <td>Herbivores</td>\n",
       "      <td>Unité Mixte de Recherche Herbivores</td>\n",
       "      <td>NaN</td>\n",
       "      <td>SDV santé</td>\n",
       "      <td>Sciences agronomiques et ecologiques</td>\n",
       "      <td>2020</td>\n",
       "      <td>2149</td>\n",
       "      <td>Migration Prodinra</td>\n",
       "      <td>1824</td>\n",
       "    </tr>\n",
       "  </tbody>\n",
       "</table>\n",
       "</div>"
      ],
      "text/plain": [
       "  UnivSigle     UnivNum     Label  UniteSigle  \\\n",
       "0    Saclay  Saclay-187       NaN        LTCI   \n",
       "1       UGA     UGA-018  UPR 5301      CERMAV   \n",
       "2       UDL     UDL-092  UMR 5205       LIRIS   \n",
       "3       UGA     UGA-012  UMR 0042     CARRTEL   \n",
       "4       UDL     UDL-145  UMR 1213  Herbivores   \n",
       "\n",
       "                                            UniteNom Collection  \\\n",
       "0  Laboratoire traitement et communication de l'i...       LTCI   \n",
       "1  Centre de Recherches sur les Macromolécules Vé...     CERMAV   \n",
       "2  Laboratoire d'InfoRmatique en Image et Système...      LIRIS   \n",
       "3  Centre Alpin de Recherche sur les Réseaux Trop...        NaN   \n",
       "4                Unité Mixte de Recherche Herbivores        NaN   \n",
       "\n",
       "               Secteur                                         Discipline  \\\n",
       "0  Science technologie  Sciences et technologies de l'information et d...   \n",
       "1  Science technologie  Chimie;Biologie medecine et sante;Sciences pou...   \n",
       "2  Science technologie  Sciences et technologies de l'information et d...   \n",
       "3  Science technologie               Sciences agronomiques et ecologiques   \n",
       "4            SDV santé               Sciences agronomiques et ecologiques   \n",
       "\n",
       "   AnneeDepot  NbDepotLabo                                ContributeurNom  \\\n",
       "0        2019         3064                               Telecomparis Hal   \n",
       "1        2008         2199                                 Michèle Carret   \n",
       "2        2017         2548  Équipe Gestionnaire Des Publications Si Liris   \n",
       "3        2020         2145                             Migration Prodinra   \n",
       "4        2020         2149                             Migration Prodinra   \n",
       "\n",
       "   NbDepotContributeur  \n",
       "0                 2401  \n",
       "1                 2179  \n",
       "2                 2041  \n",
       "3                 1942  \n",
       "4                 1824  "
      ]
     },
     "execution_count": 2,
     "metadata": {},
     "output_type": "execute_result"
    }
   ],
   "source": [
    "#Read csv\n",
    "url = \"https://raw.githubusercontent.com/amelfraisse/HAL-LO/main/datasets/data_contributeurs.csv\" \n",
    "download = requests.get(url).content\n",
    "\n",
    "colnames=['UnivSigle', 'UnivNum', 'Label', 'UniteSigle', 'UniteNom', 'Collection', 'Secteur', 'Discipline', 'AnneeDepot', 'NbDepotLabo', 'ContributeurNom', 'NbDepotContributeur'] \n",
    "dataframe = pd.read_csv(io.StringIO(download.decode('latin-1')), sep =';', names = colnames, header=0)\n",
    "\n",
    "dataframe.head()"
   ]
  },
  {
   "cell_type": "code",
   "execution_count": 10,
   "id": "6ab696d2",
   "metadata": {},
   "outputs": [
    {
     "data": {
      "text/plain": [
       "<AxesSubplot:xlabel='AnneeDepot'>"
      ]
     },
     "execution_count": 10,
     "metadata": {},
     "output_type": "execute_result"
    },
    {
     "data": {
      "image/png": "[encoded data removed]",
      "text/plain": [
       "<Figure size 432x288 with 1 Axes>"
      ]
     },
     "metadata": {
      "needs_background": "light"
     },
     "output_type": "display_data"
    }
   ],
   "source": [
    "#Quick analysis per year\n",
    "dfUnivAnnee = pd.pivot_table(\n",
    "   dataframe,\n",
    "   index=['UnivSigle'],\n",
    "   columns=['AnneeDepot'],\n",
    "   aggfunc={'NbDepotContributeur': np.sum})\n",
    "\n",
    "dfUnivAnnee = pd.pivot_table(\n",
    "   dataframe,\n",
    "   index=['AnneeDepot'],\n",
    "   columns=['UnivSigle'],\n",
    "   aggfunc={'NbDepotContributeur': np.sum})\n",
    "\n",
    "dfUnivAnnee.head(100)\n",
    "\n",
    "dfUnivAnnee.plot()"
   ]
  },
  {
   "cell_type": "code",
   "execution_count": null,
   "id": "1d89a6b0",
   "metadata": {},
   "outputs": [],
   "source": [
    "#Exclude data before 2001\n"
   ]
  }
 ],
 "metadata": {
  "kernelspec": {
   "display_name": "Python 3 (ipykernel)",
   "language": "python",
   "name": "python3"
  },
  "language_info": {
   "codemirror_mode": {
    "name": "ipython",
    "version": 3
   },
   "file_extension": ".py",
   "mimetype": "text/x-python",
   "name": "python",
   "nbconvert_exporter": "python",
   "pygments_lexer": "ipython3",
   "version": "3.8.9"
  }
 },
 "nbformat": 4,
 "nbformat_minor": 5
}
